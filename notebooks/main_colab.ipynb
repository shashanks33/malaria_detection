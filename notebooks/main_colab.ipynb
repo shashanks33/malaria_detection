{
 "cells": [
  {
   "cell_type": "code",
   "execution_count": null,
   "metadata": {
    "colab": {},
    "colab_type": "code",
    "id": "9iUYnAoaWaAh"
   },
   "outputs": [],
   "source": [
    "!unzip /Dataset.zip"
   ]
  },
  {
   "cell_type": "code",
   "execution_count": 9,
   "metadata": {
    "colab": {},
    "colab_type": "code",
    "id": "uWevw_VUXbGp"
   },
   "outputs": [],
   "source": [
    "from tensorflow.keras.layers import Input, Lambda, Dense, Flatten, Conv2D, MaxPooling2D\n",
    "from tensorflow.keras.models import Model, Sequential, load_model\n",
    "from tensorflow.keras.applications.vgg19 import VGG19\n",
    "from tensorflow.keras.applications.resnet50 import preprocess_input\n",
    "from tensorflow.keras.preprocessing import image\n",
    "from tensorflow.keras.preprocessing.image import ImageDataGenerator,load_img\n",
    "import numpy as np\n",
    "from glob import glob\n",
    "import matplotlib.pyplot as plt"
   ]
  },
  {
   "cell_type": "code",
   "execution_count": 10,
   "metadata": {
    "colab": {},
    "colab_type": "code",
    "id": "EwCivmgVXe_1"
   },
   "outputs": [],
   "source": [
    "IMAGE_SIZE = [224, 224]\n",
    "\n",
    "train_path = './Dataset/Train'\n",
    "test_path = './Dataset/Test'"
   ]
  },
  {
   "cell_type": "code",
   "execution_count": 11,
   "metadata": {
    "colab": {},
    "colab_type": "code",
    "id": "sn7lo1evXjQh"
   },
   "outputs": [],
   "source": [
    "vgg19 = VGG19(input_shape = IMAGE_SIZE + [3], weights='imagenet', include_top = False)\n",
    "\n",
    "for layer in vgg19.layers:\n",
    "    layer.trainable = False"
   ]
  },
  {
   "cell_type": "code",
   "execution_count": 12,
   "metadata": {
    "colab": {},
    "colab_type": "code",
    "id": "pKs85bHVXqmq"
   },
   "outputs": [],
   "source": [
    "classes = glob('Dataset/Train/*')\n",
    "\n",
    "no_of_classes = len(classes)"
   ]
  },
  {
   "cell_type": "code",
   "execution_count": 13,
   "metadata": {
    "colab": {},
    "colab_type": "code",
    "id": "yi2-fUyRXsQC"
   },
   "outputs": [],
   "source": [
    "# vgg19.summary()"
   ]
  },
  {
   "cell_type": "code",
   "execution_count": null,
   "metadata": {
    "colab": {},
    "colab_type": "code",
    "id": "ttVAqqjRXuvx"
   },
   "outputs": [],
   "source": [
    "x = Flatten()(vgg19.output)\n",
    "\n",
    "output = Dense(no_of_classes, activation='softmax')(x)\n",
    "\n",
    "model = Model(inputs = vgg19.input, outputs = output)\n",
    "\n",
    "model.summary()"
   ]
  },
  {
   "cell_type": "code",
   "execution_count": 16,
   "metadata": {
    "colab": {},
    "colab_type": "code",
    "id": "Abrl0-dOXw8V"
   },
   "outputs": [],
   "source": [
    "model.compile(\n",
    "loss = 'categorical_crossentropy', \n",
    "optimizer = 'adam', \n",
    "metrics = ['accuracy'])"
   ]
  },
  {
   "cell_type": "code",
   "execution_count": 17,
   "metadata": {
    "colab": {
     "base_uri": "https://localhost:8080/",
     "height": 51
    },
    "colab_type": "code",
    "id": "9wuc7mbQX57d",
    "outputId": "7963a076-b454-4390-979a-babd536cc9ff"
   },
   "outputs": [
    {
     "name": "stdout",
     "output_type": "stream",
     "text": [
      "Found 416 images belonging to 2 classes.\n",
      "Found 134 images belonging to 2 classes.\n"
     ]
    }
   ],
   "source": [
    "train_datagen = ImageDataGenerator(rescale = 1./255, \n",
    "                                  shear_range = 0.2,\n",
    "                                  zoom_range = 0.2,\n",
    "                                  horizontal_flip = True)\n",
    "test_datagen = ImageDataGenerator(rescale = 1./255)\n",
    "\n",
    "training_set = train_datagen.flow_from_directory('Dataset/Train',\n",
    "                                                 target_size = (224, 224),\n",
    "                                                 batch_size = 32,\n",
    "                                                 class_mode = 'categorical')\n",
    "\n",
    "test_set = test_datagen.flow_from_directory('Dataset/Test',\n",
    "                                            target_size = (224, 224),\n",
    "                                            batch_size = 32,\n",
    "                                            class_mode = 'categorical')"
   ]
  },
  {
   "cell_type": "code",
   "execution_count": 18,
   "metadata": {
    "colab": {
     "base_uri": "https://localhost:8080/",
     "height": 887
    },
    "colab_type": "code",
    "id": "cREoRvV2X8ZX",
    "outputId": "a453999c-7555-4f61-afe4-09a3144d50a0"
   },
   "outputs": [
    {
     "name": "stdout",
     "output_type": "stream",
     "text": [
      "Epoch 1/25\n",
      "13/13 [==============================] - 8s 607ms/step - loss: 1.6879 - accuracy: 0.5048 - val_loss: 1.5704 - val_accuracy: 0.3284\n",
      "Epoch 2/25\n",
      "13/13 [==============================] - 8s 592ms/step - loss: 0.6140 - accuracy: 0.6827 - val_loss: 0.5266 - val_accuracy: 0.7090\n",
      "Epoch 3/25\n",
      "13/13 [==============================] - 8s 593ms/step - loss: 0.4092 - accuracy: 0.8101 - val_loss: 0.4955 - val_accuracy: 0.7388\n",
      "Epoch 4/25\n",
      "13/13 [==============================] - 8s 593ms/step - loss: 0.3734 - accuracy: 0.8413 - val_loss: 0.5269 - val_accuracy: 0.7164\n",
      "Epoch 5/25\n",
      "13/13 [==============================] - 8s 592ms/step - loss: 0.3324 - accuracy: 0.8462 - val_loss: 0.4084 - val_accuracy: 0.7388\n",
      "Epoch 6/25\n",
      "13/13 [==============================] - 8s 592ms/step - loss: 0.3180 - accuracy: 0.8750 - val_loss: 0.5119 - val_accuracy: 0.7239\n",
      "Epoch 7/25\n",
      "13/13 [==============================] - 8s 591ms/step - loss: 0.2864 - accuracy: 0.8822 - val_loss: 0.3668 - val_accuracy: 0.8060\n",
      "Epoch 8/25\n",
      "13/13 [==============================] - 8s 596ms/step - loss: 0.3286 - accuracy: 0.8558 - val_loss: 0.5211 - val_accuracy: 0.7463\n",
      "Epoch 9/25\n",
      "13/13 [==============================] - 8s 592ms/step - loss: 0.2831 - accuracy: 0.8798 - val_loss: 0.3883 - val_accuracy: 0.7687\n",
      "Epoch 10/25\n",
      "13/13 [==============================] - 8s 600ms/step - loss: 0.2841 - accuracy: 0.8798 - val_loss: 0.4810 - val_accuracy: 0.7463\n",
      "Epoch 11/25\n",
      "13/13 [==============================] - 8s 599ms/step - loss: 0.2168 - accuracy: 0.9279 - val_loss: 0.2900 - val_accuracy: 0.8881\n",
      "Epoch 12/25\n",
      "13/13 [==============================] - 8s 587ms/step - loss: 0.2063 - accuracy: 0.9255 - val_loss: 0.4616 - val_accuracy: 0.7463\n",
      "Epoch 13/25\n",
      "13/13 [==============================] - 8s 591ms/step - loss: 0.1986 - accuracy: 0.9303 - val_loss: 0.2741 - val_accuracy: 0.8881\n",
      "Epoch 14/25\n",
      "13/13 [==============================] - 8s 594ms/step - loss: 0.1695 - accuracy: 0.9471 - val_loss: 0.2734 - val_accuracy: 0.9104\n",
      "Epoch 15/25\n",
      "13/13 [==============================] - 8s 590ms/step - loss: 0.1616 - accuracy: 0.9639 - val_loss: 0.2691 - val_accuracy: 0.9030\n",
      "Epoch 16/25\n",
      "13/13 [==============================] - 8s 597ms/step - loss: 0.1805 - accuracy: 0.9471 - val_loss: 0.3727 - val_accuracy: 0.8060\n",
      "Epoch 17/25\n",
      "13/13 [==============================] - 8s 590ms/step - loss: 0.1597 - accuracy: 0.9567 - val_loss: 0.2454 - val_accuracy: 0.9179\n",
      "Epoch 18/25\n",
      "13/13 [==============================] - 8s 594ms/step - loss: 0.2009 - accuracy: 0.9279 - val_loss: 0.7329 - val_accuracy: 0.6567\n",
      "Epoch 19/25\n",
      "13/13 [==============================] - 8s 591ms/step - loss: 0.1961 - accuracy: 0.9255 - val_loss: 0.2266 - val_accuracy: 0.9179\n",
      "Epoch 20/25\n",
      "13/13 [==============================] - 8s 589ms/step - loss: 0.1335 - accuracy: 0.9663 - val_loss: 0.4574 - val_accuracy: 0.7388\n",
      "Epoch 21/25\n",
      "13/13 [==============================] - 8s 594ms/step - loss: 0.1805 - accuracy: 0.9327 - val_loss: 0.2452 - val_accuracy: 0.9254\n",
      "Epoch 22/25\n",
      "13/13 [==============================] - 8s 594ms/step - loss: 0.1262 - accuracy: 0.9688 - val_loss: 0.2642 - val_accuracy: 0.9030\n",
      "Epoch 23/25\n",
      "13/13 [==============================] - 8s 590ms/step - loss: 0.1493 - accuracy: 0.9471 - val_loss: 0.2281 - val_accuracy: 0.9179\n",
      "Epoch 24/25\n",
      "13/13 [==============================] - 8s 591ms/step - loss: 0.1343 - accuracy: 0.9543 - val_loss: 0.2255 - val_accuracy: 0.9030\n",
      "Epoch 25/25\n",
      "13/13 [==============================] - 8s 591ms/step - loss: 0.1391 - accuracy: 0.9567 - val_loss: 0.2610 - val_accuracy: 0.8955\n"
     ]
    }
   ],
   "source": [
    "r = model.fit_generator(\n",
    "  training_set,\n",
    "  validation_data=test_set,\n",
    "  epochs=25,\n",
    "  steps_per_epoch=len(training_set),\n",
    "  validation_steps=len(test_set)\n",
    ")"
   ]
  },
  {
   "cell_type": "code",
   "execution_count": 22,
   "metadata": {
    "colab": {
     "base_uri": "https://localhost:8080/",
     "height": 534
    },
    "colab_type": "code",
    "id": "DNgmraI_WdfB",
    "outputId": "fde77a9f-f31d-48b4-87b3-a5131ca78932"
   },
   "outputs": [
    {
     "data": {
      "image/png": "[encoded data removed]",
      "text/plain": [
       "<Figure size 432x288 with 1 Axes>"
      ]
     },
     "metadata": {
      "needs_background": "light",
      "tags": []
     },
     "output_type": "display_data"
    },
    {
     "data": {
      "image/png": "[encoded data removed]",
      "text/plain": [
       "<Figure size 432x288 with 1 Axes>"
      ]
     },
     "metadata": {
      "needs_background": "light",
      "tags": []
     },
     "output_type": "display_data"
    },
    {
     "data": {
      "text/plain": [
       "<Figure size 432x288 with 0 Axes>"
      ]
     },
     "metadata": {
      "tags": []
     },
     "output_type": "display_data"
    }
   ],
   "source": [
    "# plot the loss\n",
    "plt.plot(r.history['loss'], label='train loss')\n",
    "plt.plot(r.history['val_loss'], label='val loss')\n",
    "plt.legend()\n",
    "plt.show()\n",
    "plt.savefig('/LossVal_loss')\n",
    "\n",
    "# plot the accuracy\n",
    "plt.plot(r.history['accuracy'], label='train acc')\n",
    "plt.plot(r.history['val_accuracy'], label='val acc')\n",
    "plt.legend()\n",
    "plt.show()\n",
    "plt.savefig('/AccVal_acc')"
   ]
  },
  {
   "cell_type": "code",
   "execution_count": 21,
   "metadata": {
    "colab": {},
    "colab_type": "code",
    "id": "5tNcvXeeWulp"
   },
   "outputs": [],
   "source": [
    "model.save('/model_vgg19.h5')"
   ]
  },
  {
   "cell_type": "code",
   "execution_count": 23,
   "metadata": {
    "colab": {},
    "colab_type": "code",
    "id": "Yg7fkdpIZOWi"
   },
   "outputs": [],
   "source": [
    "y_pred = model.predict(test_set)"
   ]
  },
  {
   "cell_type": "code",
   "execution_count": 24,
   "metadata": {
    "colab": {},
    "colab_type": "code",
    "id": "V0CtWiVEbiXL"
   },
   "outputs": [],
   "source": [
    "y_pred = np.argmax(y_pred, axis=1)"
   ]
  },
  {
   "cell_type": "code",
   "execution_count": 25,
   "metadata": {
    "colab": {
     "base_uri": "https://localhost:8080/",
     "height": 136
    },
    "colab_type": "code",
    "id": "HIhRO-0TboQa",
    "outputId": "4ecfebc8-8cb4-4c3b-ef56-e0d3cce1f459"
   },
   "outputs": [
    {
     "data": {
      "text/plain": [
       "array([0, 0, 0, 1, 1, 0, 0, 1, 0, 1, 1, 1, 0, 0, 0, 1, 1, 0, 0, 0, 0, 0,\n",
       "       1, 1, 0, 1, 0, 1, 0, 1, 1, 0, 0, 1, 0, 0, 1, 0, 0, 0, 0, 0, 1, 0,\n",
       "       1, 1, 0, 0, 0, 0, 1, 1, 0, 1, 0, 1, 1, 0, 0, 1, 0, 0, 0, 1, 0, 0,\n",
       "       1, 0, 0, 0, 0, 0, 0, 1, 1, 1, 0, 1, 1, 0, 0, 1, 0, 1, 0, 0, 1, 1,\n",
       "       0, 1, 0, 0, 1, 0, 0, 0, 1, 1, 0, 1, 1, 0, 1, 0, 0, 0, 1, 1, 0, 1,\n",
       "       0, 0, 0, 0, 0, 0, 0, 0, 0, 0, 1, 0, 1, 0, 0, 0, 1, 1, 1, 0, 1, 0,\n",
       "       0, 1])"
      ]
     },
     "execution_count": 25,
     "metadata": {
      "tags": []
     },
     "output_type": "execute_result"
    }
   ],
   "source": [
    "y_pred"
   ]
  },
  {
   "cell_type": "code",
   "execution_count": 26,
   "metadata": {
    "colab": {},
    "colab_type": "code",
    "id": "W8ws_BpTbpi4"
   },
   "outputs": [],
   "source": [
    "model=load_model('/model_vgg19.h5')"
   ]
  },
  {
   "cell_type": "code",
   "execution_count": 28,
   "metadata": {
    "colab": {},
    "colab_type": "code",
    "id": "qTgC_I3PbuJp"
   },
   "outputs": [],
   "source": [
    "img=image.load_img('Dataset/Test/Uninfected/2.png',target_size=(224,224))"
   ]
  },
  {
   "cell_type": "code",
   "execution_count": null,
   "metadata": {
    "colab": {},
    "colab_type": "code",
    "id": "QBWLQj56by_B"
   },
   "outputs": [],
   "source": [
    "x = image.img_to_array(img)"
   ]
  },
  {
   "cell_type": "code",
   "execution_count": 32,
   "metadata": {
    "colab": {
     "base_uri": "https://localhost:8080/",
     "height": 34
    },
    "colab_type": "code",
    "id": "yaLPdt4ub_Gw",
    "outputId": "64b73a61-5f3a-471d-de50-206e15e1f505"
   },
   "outputs": [
    {
     "data": {
      "text/plain": [
       "(224, 224, 3)"
      ]
     },
     "execution_count": 32,
     "metadata": {
      "tags": []
     },
     "output_type": "execute_result"
    }
   ],
   "source": [
    "x.shape"
   ]
  },
  {
   "cell_type": "code",
   "execution_count": 33,
   "metadata": {
    "colab": {},
    "colab_type": "code",
    "id": "VQpmZYDucDwD"
   },
   "outputs": [],
   "source": [
    "x = x/255"
   ]
  },
  {
   "cell_type": "code",
   "execution_count": 34,
   "metadata": {
    "colab": {
     "base_uri": "https://localhost:8080/",
     "height": 34
    },
    "colab_type": "code",
    "id": "jPKivIiKcY1Z",
    "outputId": "b1add0d1-28b3-43bd-b5dd-a800c63176b2"
   },
   "outputs": [
    {
     "data": {
      "text/plain": [
       "(1, 224, 224, 3)"
      ]
     },
     "execution_count": 34,
     "metadata": {
      "tags": []
     },
     "output_type": "execute_result"
    }
   ],
   "source": [
    "x=np.expand_dims(x,axis=0)\n",
    "img_data=preprocess_input(x)\n",
    "img_data.shape"
   ]
  },
  {
   "cell_type": "code",
   "execution_count": 35,
   "metadata": {
    "colab": {
     "base_uri": "https://localhost:8080/",
     "height": 34
    },
    "colab_type": "code",
    "id": "uPEGqr2jcZmQ",
    "outputId": "bf2740ce-d2a4-41f0-ada6-c5f698ead494"
   },
   "outputs": [
    {
     "data": {
      "text/plain": [
       "array([[0.5896471, 0.4103529]], dtype=float32)"
      ]
     },
     "execution_count": 35,
     "metadata": {
      "tags": []
     },
     "output_type": "execute_result"
    }
   ],
   "source": [
    "model.predict(img_data)"
   ]
  },
  {
   "cell_type": "code",
   "execution_count": 36,
   "metadata": {
    "colab": {
     "base_uri": "https://localhost:8080/",
     "height": 34
    },
    "colab_type": "code",
    "id": "joV85dt3cdYU",
    "outputId": "3e168875-1f74-40cd-f235-530b86b29934"
   },
   "outputs": [
    {
     "name": "stdout",
     "output_type": "stream",
     "text": [
      "Infected\n"
     ]
    }
   ],
   "source": [
    "a=np.argmax(model.predict(img_data), axis=1)\n",
    "\n",
    "if(a==1):\n",
    "    print(\"Uninfected\")\n",
    "else:\n",
    "    print(\"Infected\")"
   ]
  },
  {
   "cell_type": "code",
   "execution_count": null,
   "metadata": {
    "colab": {},
    "colab_type": "code",
    "id": "IB9Vj59yckmM"
   },
   "outputs": [],
   "source": []
  }
 ],
 "metadata": {
  "accelerator": "GPU",
  "colab": {
   "collapsed_sections": [],
   "name": "main_colab.ipynb",
   "provenance": []
  },
  "kernelspec": {
   "display_name": "Python 3",
   "language": "python",
   "name": "python3"
  },
  "language_info": {
   "codemirror_mode": {
    "name": "ipython",
    "version": 3
   },
   "file_extension": ".py",
   "mimetype": "text/x-python",
   "name": "python",
   "nbconvert_exporter": "python",
   "pygments_lexer": "ipython3",
   "version": "3.7.7"
  }
 },
 "nbformat": 4,
 "nbformat_minor": 1
}
